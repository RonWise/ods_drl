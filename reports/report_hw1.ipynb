{
 "cells": [
  {
   "cell_type": "markdown",
   "metadata": {},
   "source": [
    "# Home work 1: Taxi\n",
    "Author: Novokshanov Roman"
   ]
  },
  {
   "cell_type": "markdown",
   "metadata": {},
   "source": [
    "## Task 1: Taxi with CrossEntropy algorithm"
   ]
  },
  {
   "cell_type": "markdown",
   "metadata": {},
   "source": [
    "### Description"
   ]
  },
  {
   "cell_type": "markdown",
   "metadata": {},
   "source": [
    "The Cross Entropy agent has been trained with different parameters set:\n",
    " - q_param = [0.5, 0.6, 0.7, 0.8, 0.9]\n",
    " - trajectory_len = [100, 200, 400, 800, 1000, 2000, 4000]\n",
    " - trajectory_n = [100, 200, 400, 800, 1000, 2000, 4000]\n",
    " - iteration_n = [10, 20, 30, 40]"
   ]
  },
  {
   "cell_type": "markdown",
   "metadata": {},
   "source": [
    "The largest mean total rewards has been achieved at `8.01` value with the following parameters: \n",
    " - q_param = 0.5\n",
    " - trajectory_len = 200\n",
    " - trajectory_n = 4000\n",
    " - iteration_n = 40"
   ]
  },
  {
   "cell_type": "markdown",
   "metadata": {},
   "source": [
    "### Experiments"
   ]
  },
  {
   "cell_type": "markdown",
   "metadata": {},
   "source": [
    "#### Learning curve (max mean total rewards at 8.01 achieved at 37 epoch):"
   ]
  },
  {
   "cell_type": "markdown",
   "metadata": {},
   "source": [
    "\n",
    "![title](./img/learning_curve_best.png)"
   ]
  },
  {
   "cell_type": "markdown",
   "metadata": {},
   "source": [
    "#### Mean total rewards dependency on epochs at different quantiles:"
   ]
  },
  {
   "cell_type": "markdown",
   "metadata": {},
   "source": [
    "Other parameters are fixed at: \n",
    " - iteration_n = 20 \n",
    " - trajectory_len == 4000 \n",
    " - trajectory_n == 4000 "
   ]
  },
  {
   "cell_type": "markdown",
   "metadata": {},
   "source": [
    "![title](./img/rewards_vs_q.png)"
   ]
  },
  {
   "cell_type": "markdown",
   "metadata": {},
   "source": [
    "#### Max mean total rewards dependency on quantile across all epochs:"
   ]
  },
  {
   "cell_type": "markdown",
   "metadata": {},
   "source": [
    "![title](./img/max_rewards_vs_q.png)"
   ]
  },
  {
   "cell_type": "markdown",
   "metadata": {},
   "source": [
    "#### Max mean total rewards dependency on trajectories length (trajectory_len) across all epochs:"
   ]
  },
  {
   "cell_type": "markdown",
   "metadata": {},
   "source": [
    "![title](./img/rewards_vs_trajectory_len_vs_q.png)"
   ]
  },
  {
   "cell_type": "markdown",
   "metadata": {},
   "source": [
    "#### Max mean total rewards dependency on trajectories quantity (trajectory_n) across all epochs:"
   ]
  },
  {
   "cell_type": "markdown",
   "metadata": {},
   "source": [
    "![title](./img/rewards_vs_trajectory_n_vs_q.png)"
   ]
  },
  {
   "cell_type": "markdown",
   "metadata": {},
   "source": [
    "### Conclusion"
   ]
  },
  {
   "cell_type": "markdown",
   "metadata": {},
   "source": [
    "1. The Cross Entropy agent learns relatively fast. It starts getting mean total rewards above zero after 30-40 steps.\n",
    "\n",
    "2. Higher quantile requires larger number of epochs. \n",
    "\n",
    "3. Long trajectories could accumulate larger negative total rewards before it receives positive reward hence are likely to be excluded from pool of elite trajectories at high quantiles.\n",
    "\n",
    "4. Lower quantiles produce higher mean total rewards. It can be explained by the fact that low quantiles would have larger pools of elite trajectories and include long trajectories with large negative rewards.\n",
    "\n",
    "5. Trajectories length might be 2-3 times the number of states. After that length of trajectories does not affect much the mean total rewards."
   ]
  },
  {
   "cell_type": "markdown",
   "metadata": {},
   "source": []
  }
 ],
 "metadata": {
  "kernelspec": {
   "display_name": "drl",
   "language": "python",
   "name": "python3"
  },
  "language_info": {
   "codemirror_mode": {
    "name": "ipython",
    "version": 3
   },
   "file_extension": ".py",
   "mimetype": "text/x-python",
   "name": "python",
   "nbconvert_exporter": "python",
   "pygments_lexer": "ipython3",
   "version": "3.9.20"
  }
 },
 "nbformat": 4,
 "nbformat_minor": 2
}
